{
 "cells": [
  {
   "cell_type": "code",
   "execution_count": 1,
   "metadata": {},
   "outputs": [
    {
     "name": "stdout",
     "output_type": "stream",
     "text": [
      "Distribution : \n",
      " [0.         0.06122449 0.12244898 0.18367347 0.24489796 0.30612245\n",
      " 0.36734694 0.42857143 0.48979592 0.55102041 0.6122449  0.67346939\n",
      " 0.73469388 0.79591837 0.85714286 0.91836735 0.97959184 1.04081633\n",
      " 1.10204082 1.16326531 1.2244898  1.28571429 1.34693878 1.40816327\n",
      " 1.46938776 1.53061224 1.59183673 1.65306122 1.71428571 1.7755102\n",
      " 1.83673469 1.89795918 1.95918367 2.02040816 2.08163265 2.14285714\n",
      " 2.20408163 2.26530612 2.32653061 2.3877551  2.44897959 2.51020408\n",
      " 2.57142857 2.63265306 2.69387755 2.75510204 2.81632653 2.87755102\n",
      " 2.93877551 3.        ]\n"
     ]
    },
    {
     "data": {
      "image/png": "[encoded data removed]",
      "text/plain": [
       "<matplotlib.figure.Figure at 0x1033c9b00>"
      ]
     },
     "metadata": {},
     "output_type": "display_data"
    }
   ],
   "source": [
    "from scipy.stats import invgamma   \n",
    "import numpy as np \n",
    "import matplotlib.pyplot as plt\n",
    "\n",
    "numargs = invgamma.numargs \n",
    "[a] = [0.3] * numargs \n",
    "rv = invgamma (a)  \n",
    "    \n",
    "distribution = np.linspace(0, np.minimum(rv.dist.b, 3)) \n",
    "print(\"Distribution : \\n\", distribution) \n",
    "    \n",
    "plt.plot(distribution, rv.pdf(distribution)) \n",
    "plt.show()"
   ]
  },
  {
   "cell_type": "code",
   "execution_count": 9,
   "metadata": {},
   "outputs": [
    {
     "name": "stdout",
     "output_type": "stream",
     "text": [
      "[2.3        0.09090722 2.06249743 0.26561892]\n"
     ]
    }
   ],
   "source": [
    "from scipy import optimize\n",
    "\n",
    "def error_cal(params):\n",
    "    mu,v,a,b=params[0],params[1],params[2],params[3]\n",
    "    result= (mu-2.3)**2+(b/(a-1)-0.5**2)**2+((b/(v*(a-1)))-2.75)**2+((b**2/((a-1)**2*(a-2)))-1**2)**2\n",
    "    return result\n",
    "\n",
    "print(optimize.minimize(error_cal,[2.3,1,5,5]).x)"
   ]
  },
  {
   "cell_type": "code",
   "execution_count": 11,
   "metadata": {},
   "outputs": [
    {
     "data": {
      "text/plain": [
       "0.0960465680329857"
      ]
     },
     "execution_count": 11,
     "metadata": {},
     "output_type": "execute_result"
    }
   ],
   "source": [
    "1.98/20.615"
   ]
  },
  {
   "cell_type": "code",
   "execution_count": null,
   "metadata": {
    "collapsed": true
   },
   "outputs": [],
   "source": []
  }
 ],
 "metadata": {
  "kernelspec": {
   "display_name": "Python 3",
   "language": "python",
   "name": "python3"
  },
  "language_info": {
   "codemirror_mode": {
    "name": "ipython",
    "version": 3
   },
   "file_extension": ".py",
   "mimetype": "text/x-python",
   "name": "python",
   "nbconvert_exporter": "python",
   "pygments_lexer": "ipython3",
   "version": "3.6.3"
  }
 },
 "nbformat": 4,
 "nbformat_minor": 2
}
