{
 "cells": [
  {
   "cell_type": "code",
   "execution_count": 5,
   "metadata": {},
   "outputs": [
    {
     "name": "stdout",
     "output_type": "stream",
     "text": [
      "[-1.86065661  1.85904171]\n"
     ]
    }
   ],
   "source": [
    "import numpy as np\n",
    "distribution=np.random.normal(loc=1000*0.1, scale=np.sqrt(1000*0.1*(1-0.1)),size=2000000)\n",
    "print((np.percentile(distribution,[2.5, 97.5])-1000*0.1)/1000*100)"
   ]
  },
  {
   "cell_type": "code",
   "execution_count": 6,
   "metadata": {},
   "outputs": [
    {
     "name": "stdout",
     "output_type": "stream",
     "text": [
      "[[0.02 0.02 0.03 0.04 0.06]\n",
      " [0.02 0.03 0.04 0.05 0.08]\n",
      " [0.03 0.03 0.04 0.06 0.09]\n",
      " [0.03 0.04 0.04 0.06 0.1 ]\n",
      " [0.03 0.04 0.04 0.06 0.1 ]\n",
      " [0.03 0.04 0.04 0.06 0.1 ]\n",
      " [0.03 0.03 0.04 0.06 0.09]\n",
      " [0.02 0.03 0.04 0.05 0.08]\n",
      " [0.02 0.02 0.03 0.04 0.06]]\n"
     ]
    }
   ],
   "source": [
    "sample_sizes=np.array([1000, 750, 500, 250, 100])\n",
    "ps=np.array([0.1, 0.2, 0.3, 0.4, 0.5, 0.6, 0.7, 0.8, 0.9])\n",
    "\n",
    "errs = np.empty([len(ps), len(sample_sizes)])\n",
    "for i in range(len(ps)):\n",
    "    mean = sample_sizes * ps[i]\n",
    "    std = np.sqrt(sample_sizes * ps[i] * (1 - ps[i]))\n",
    "    sample_std = std / np.sqrt(sample_sizes)\n",
    "    errs[i] = 1.96 * (sample_std / np.sqrt(sample_sizes))\n",
    "\n",
    "print(np.around(errs,2))"
   ]
  },
  {
   "cell_type": "code",
   "execution_count": null,
   "metadata": {
    "collapsed": true
   },
   "outputs": [],
   "source": [
    "#The rightmost column is incorrect"
   ]
  }
 ],
 "metadata": {
  "kernelspec": {
   "display_name": "Python 3",
   "language": "python",
   "name": "python3"
  },
  "language_info": {
   "codemirror_mode": {
    "name": "ipython",
    "version": 3
   },
   "file_extension": ".py",
   "mimetype": "text/x-python",
   "name": "python",
   "nbconvert_exporter": "python",
   "pygments_lexer": "ipython3",
   "version": "3.6.3"
  }
 },
 "nbformat": 4,
 "nbformat_minor": 2
}
